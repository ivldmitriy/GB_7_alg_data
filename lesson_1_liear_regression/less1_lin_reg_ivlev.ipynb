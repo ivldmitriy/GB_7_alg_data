{
  "cells": [
    {
      "cell_type": "markdown",
      "metadata": {
        "id": "tyxlqLBkS-uE"
      },
      "source": [
        "##Подготовительные процедуры <a class=\"anchor\" id=\"preparation\"></a><center>"
      ]
    },
    {
      "cell_type": "markdown",
      "metadata": {
        "id": "9fDPpO_27CBj"
      },
      "source": [
        "__Задача:__ предсказание баллов ЕГЭ ученика в зависимости от кол-ва лет стажа его репетитора"
      ]
    },
    {
      "cell_type": "markdown",
      "metadata": {
        "id": "4_saOaLnUH3F"
      },
      "source": [
        "####**Библиотеки**"
      ]
    },
    {
      "cell_type": "code",
      "execution_count": 10,
      "metadata": {
        "id": "zlUyrcI7T2Ng"
      },
      "outputs": [],
      "source": [
        "import numpy as np"
      ]
    },
    {
      "cell_type": "markdown",
      "metadata": {
        "id": "mi_5_ehZUKN9"
      },
      "source": [
        "####**Признаки и целевые значения**"
      ]
    },
    {
      "cell_type": "code",
      "execution_count": 11,
      "metadata": {
        "id": "puhUyyVoS4C7"
      },
      "outputs": [],
      "source": [
        "X = np.array([[ 1,  1],\n",
        "              [ 1,  1],\n",
        "              [ 1,  2],\n",
        "              [ 1,  5],\n",
        "              [ 1,  3],\n",
        "              [ 1,  0],\n",
        "              [ 1,  5],\n",
        "              [ 1, 10],\n",
        "              [ 1,  1],\n",
        "              [ 1,  2]])\n",
        "\n",
        "y = [45, 55, 50, 55, 60, 35, 75, 80, 50, 60]\n"
      ]
    },
    {
      "cell_type": "markdown",
      "metadata": {
        "id": "O55k6TfAUAfs"
      },
      "source": [
        "####**Функции**"
      ]
    },
    {
      "cell_type": "code",
      "execution_count": 12,
      "metadata": {
        "id": "Lplj9HXRT-yW"
      },
      "outputs": [],
      "source": [
        "def calc_mae(y, y_pred):\n",
        "    err = np.mean(np.abs(y - y_pred))\n",
        "    return err\n",
        "\n",
        "def calc_mse(y, y_pred):\n",
        "    err = np.mean((y - y_pred)**2)\n",
        "    return err\n"
      ]
    },
    {
      "cell_type": "markdown",
      "metadata": {
        "id": "FaDSKEfFTkQ0"
      },
      "source": [
        "## **Домашнее задание** <a class=\"anchor\" id=\"hw\"></a><center>"
      ]
    },
    {
      "cell_type": "markdown",
      "metadata": {
        "id": "FnzjCY2OTrnR"
      },
      "source": [
        "###1. Подберите скорость обучения (eta) и количество итераций"
      ]
    },
    {
      "cell_type": "markdown",
      "metadata": {
        "id": "X2T2yyZiWq4W"
      },
      "source": [
        "Расчитаем аналитические веса и MSE"
      ]
    },
    {
      "cell_type": "code",
      "execution_count": 13,
      "metadata": {
        "colab": {
          "base_uri": "https://localhost:8080/"
        },
        "id": "H2vBl7FyWrQO",
        "outputId": "2e61ec48-1491-41b6-d366-d774759ece3e"
      },
      "outputs": [
        {
          "output_type": "stream",
          "name": "stdout",
          "text": [
            "Analytical weights are [45.0625  3.8125]\n",
            "Analytical MSE is 43.97\n"
          ]
        }
      ],
      "source": [
        "W_analytical = np.linalg.inv(np.dot(X.T, X)) @ X.T @ y\n",
        "y_pred_analytical = W_analytical[0] * X[:, 0] + W_analytical[1] * X[:, 1]\n",
        "mse_analytical = calc_mse(y, y_pred_analytical)\n",
        "print(f'Analytical weights are {W_analytical}')\n",
        "print(f'Analytical MSE is {mse_analytical:.2f}')\n"
      ]
    },
    {
      "cell_type": "markdown",
      "metadata": {
        "id": "5231h_SCUo4w"
      },
      "source": [
        "Оформим перебор с помощью цикла"
      ]
    },
    {
      "cell_type": "code",
      "execution_count": 14,
      "metadata": {
        "id": "TUDOXuWYVEdj",
        "colab": {
          "base_uri": "https://localhost:8080/",
          "height": 167
        },
        "outputId": "201f644d-079b-4179-823c-243f4efc9c83"
      },
      "outputs": [
        {
          "output_type": "execute_result",
          "data": {
            "application/vnd.google.colaboratory.intrinsic+json": {
              "type": "string"
            },
            "text/plain": [
              "\"\\nn = X.shape[0]\\n\\n# Создал наборы числа итераций и скорости обучения для перебора\\neta_diapason = np.linspace(0, 2, 1000)\\niter_diapason = range(0, 500, 25)\\n#eta = 1e-2 \\n#n_iter = 100\\n\\n# Создал заготовку для хранения результата\\nres = []\\nerr = np.inf\\n\\n# Начинаю перебирать\\nfor eta in eta_diapason:\\n    for n_iter in iter_diapason:\\n        # заготовка под новую строку в массиве результата\\n        row = [eta, n_iter]\\n        W = np.array([1, 0.5])\\n        # Отказываюсь от вывода на экран\\n        #print(f'Number of objects = {n}         #      \\nLearning rate = {eta}         #      \\nInitial weights = {W} \\n')\\n\\n        for i in range(n_iter):\\n            y_pred = np.dot(X, W)\\n            err = calc_mse(y, y_pred)\\n            for k in range(W.shape[0]):\\n                W[k] -= eta * (1/n * 2 * X[:, k] @ (y_pred - y))\\n            if i % 10 == 0:\\n                eta /= 1.1\\n        \\n        row.append(err)\\n        res.append(row)\\n                # Отказываюсь от вывода на экран\\n                #print(f'Iteration #{i}: W_new = {W}, MSE = {round(err, 2)}')\\n\""
            ]
          },
          "metadata": {},
          "execution_count": 14
        }
      ],
      "source": [
        "#Перебор значений занимает довольно значительное время\n",
        "'''\n",
        "n = X.shape[0]\n",
        "\n",
        "# Создал наборы числа итераций и скорости обучения для перебора\n",
        "eta_diapason = np.linspace(0, 2, 1000)\n",
        "iter_diapason = range(0, 500, 25)\n",
        "#eta = 1e-2 \n",
        "#n_iter = 100\n",
        "\n",
        "# Создал заготовку для хранения результата\n",
        "res = []\n",
        "err = np.inf\n",
        "\n",
        "# Начинаю перебирать\n",
        "for eta in eta_diapason:\n",
        "    for n_iter in iter_diapason:\n",
        "        # заготовка под новую строку в массиве результата\n",
        "        row = [eta, n_iter]\n",
        "        W = np.array([1, 0.5])\n",
        "        # Отказываюсь от вывода на экран\n",
        "        #print(f'Number of objects = {n} \\\n",
        "        #      \\nLearning rate = {eta} \\\n",
        "        #      \\nInitial weights = {W} \\n')\n",
        "\n",
        "        for i in range(n_iter):\n",
        "            y_pred = np.dot(X, W)\n",
        "            err = calc_mse(y, y_pred)\n",
        "            for k in range(W.shape[0]):\n",
        "                W[k] -= eta * (1/n * 2 * X[:, k] @ (y_pred - y))\n",
        "            if i % 10 == 0:\n",
        "                eta /= 1.1\n",
        "        \n",
        "        row.append(err)\n",
        "        res.append(row)\n",
        "                # Отказываюсь от вывода на экран\n",
        "                #print(f'Iteration #{i}: W_new = {W}, MSE = {round(err, 2)}')\n",
        "'''"
      ]
    },
    {
      "cell_type": "code",
      "source": [
        "'''\n",
        "data = np.array(res)\n",
        "data = data[np.argsort(data[:, 2])]\n",
        "print(f'Iteration number {data[0, 1]:.2f}: eta = {data[0, 0]}, MSE = {data[0, 2]:.2f}')\n",
        "print(f'Analytical MSE is {mse_analytical:.2f}')\n",
        "'''"
      ],
      "metadata": {
        "colab": {
          "base_uri": "https://localhost:8080/",
          "height": 55
        },
        "id": "-qF1ZkFchb9e",
        "outputId": "78b70058-6057-48cd-f534-5f5d3247e173"
      },
      "execution_count": 15,
      "outputs": [
        {
          "output_type": "execute_result",
          "data": {
            "application/vnd.google.colaboratory.intrinsic+json": {
              "type": "string"
            },
            "text/plain": [
              "\"\\ndata = np.array(res)\\ndata = data[np.argsort(data[:, 2])]\\nprint(f'Iteration number {data[0, 1]:.2f}: eta = {data[0, 0]}, MSE = {data[0, 2]:.2f}')\\nprint(f'Analytical MSE is {mse_analytical:.2f}')\\n\""
            ]
          },
          "metadata": {},
          "execution_count": 15
        }
      ]
    },
    {
      "cell_type": "markdown",
      "source": [
        "Подбор параметров дал наилучший результат для 125 итераций со скоростью обучения 0.1085\n",
        "\n",
        "Любопытно, что эта скорость условно \"большая\", ошибка первоначально нарастает, наблюдается разлет MSE. И только на больших итерациях ошибка снова уменьшается, а значения весов приближаются к аналитическим."
      ],
      "metadata": {
        "id": "I61eks5rgotH"
      }
    },
    {
      "cell_type": "code",
      "execution_count": 16,
      "metadata": {
        "colab": {
          "base_uri": "https://localhost:8080/"
        },
        "id": "4KZmMdxOZqHP",
        "outputId": "05f164e9-a88d-44b2-960b-4dcf4c923fa5"
      },
      "outputs": [
        {
          "output_type": "stream",
          "name": "stdout",
          "text": [
            "Number of objects = 10        \n",
            "Learning rate = 0.1085        \n",
            "Initial weights = [1.  0.5] \n",
            "\n",
            "Iteration #0: W_new = [12.718  41.4045], MSE = 3047.75\n",
            "Iteration #10: W_new = [ 45413.00232539 250277.07441142], MSE = 187409812359.23\n",
            "Iteration #20: W_new = [9.41538409e+07 5.19226957e+08], MSE = 1.0604848967738237e+18\n",
            "Iteration #30: W_new = [4.67357621e+10 2.57732208e+11], MSE = 3.478200484749391e+23\n",
            "Iteration #40: W_new = [5.14718677e+12 2.83850257e+13], MSE = 5.701301159172934e+27\n",
            "Iteration #50: W_new = [1.14636914e+14 6.32184510e+14], MSE = 3.893285991946561e+30\n",
            "Iteration #60: W_new = [4.59672413e+14 2.53494071e+15], MSE = 8.820441776231961e+31\n",
            "Iteration #70: W_new = [2.85885983e+14 1.57656626e+15], MSE = 4.952848996491471e+31\n",
            "Iteration #80: W_new = [2.26413166e+13 1.24859342e+14], MSE = 4.6911556275477065e+29\n",
            "Iteration #90: W_new = [1.73999075e+11 9.59547118e+11], MSE = 4.417566295341907e+25\n",
            "Iteration #100: W_new = [8.72937928e+07 4.81396034e+08], MSE = 1.919098590410822e+19\n",
            "Iteration #110: W_new = [1568.96431256 8407.73381677], MSE = 11448464904.89\n",
            "Iteration #120: W_new = [45.04891748  3.81663487], MSE = 43.97\n",
            "\n",
            "Calculated weights are [45.05014779  3.81474007]\n",
            "Analytical weights are [45.0625  3.8125]\n",
            "\n",
            "Calculated MSE is 43.96883\n",
            "Analytical MSE is 43.96875\n"
          ]
        }
      ],
      "source": [
        "n = X.shape[0]\n",
        "\n",
        "#eta = 1e-2 \n",
        "#n_iter = 100\n",
        "eta = 0.1085  # NEW\n",
        "n_iter = 125  # NEW\n",
        "\n",
        "W = np.array([1, 0.5])\n",
        "print(f'Number of objects = {n} \\\n",
        "       \\nLearning rate = {eta} \\\n",
        "       \\nInitial weights = {W} \\n')\n",
        "\n",
        "for i in range(n_iter):\n",
        "    y_pred = np.dot(X, W)\n",
        "    err = calc_mse(y, y_pred)\n",
        "    for k in range(W.shape[0]):\n",
        "        W[k] -= eta * (1/n * 2 * X[:, k] @ (y_pred - y))\n",
        "    if i % 10 == 0:\n",
        "        eta /= 1.1\n",
        "        print(f'Iteration #{i}: W_new = {W}, MSE = {round(err, 2)}')\n",
        "\n",
        "print(f'\\nCalculated weights are {W}')  # NEW\n",
        "print(f'Analytical weights are {W_analytical}')  # NEW\n",
        "print(f'\\nCalculated MSE is {err:.5f}')  # NEW\n",
        "print(f'Analytical MSE is {mse_analytical}')  # NEW\n"
      ]
    },
    {
      "cell_type": "markdown",
      "metadata": {
        "id": "5Qu1o4JhZYwI"
      },
      "source": [
        "###2*. В этом коде мы избавляемся от итераций по весам, но тут есть ошибка, исправьте ее"
      ]
    },
    {
      "cell_type": "code",
      "source": [
        "n = X.shape[0]\n",
        "\n",
        "eta = 1e-2 \n",
        "n_iter = 100\n",
        "\n",
        "W = np.array([1, 0.5])\n",
        "print(f'Number of objects = {n} \\\n",
        "       \\nLearning rate = {eta} \\\n",
        "       \\nInitial weights = {W} \\n')\n",
        "\n",
        "for i in range(n_iter):\n",
        "    y_pred = np.dot(X, W)\n",
        "    err = calc_mse(y, y_pred)\n",
        "#     for k in range(W.shape[0]):\n",
        "#         W[k] -= eta * (1/n * 2 * X[:, k] @ (y_pred - y))\n",
        "    #W -= eta * (1/n * 2 * np.dot(X, y_pred - y))\n",
        "    # Правила матричного умножения, строка на столбец, в исходном варианте срез - строка\n",
        "    W -= eta * (1/n * 2 * np.dot(X.T, y_pred - y)) # NEW\n",
        "    if i % 10 == 0:\n",
        "        print(f'Iteration #{i}: W_new = {W}, MSE = {round(err,2)}')\n"
      ],
      "metadata": {
        "colab": {
          "base_uri": "https://localhost:8080/"
        },
        "id": "tB1vqu98tjEx",
        "outputId": "55b300ea-e204-42ad-add4-bd726bcbb33b"
      },
      "execution_count": 17,
      "outputs": [
        {
          "output_type": "stream",
          "name": "stdout",
          "text": [
            "Number of objects = 10        \n",
            "Learning rate = 0.01        \n",
            "Initial weights = [1.  0.5] \n",
            "\n",
            "Iteration #0: W_new = [2.08 4.27], MSE = 3047.75\n",
            "Iteration #10: W_new = [ 7.0011236 10.6169007], MSE = 738.65\n",
            "Iteration #20: W_new = [10.3486292  10.10603105], MSE = 622.03\n",
            "Iteration #30: W_new = [13.38789582  9.55618391], MSE = 525.24\n",
            "Iteration #40: W_new = [16.16088505  9.05336203], MSE = 444.66\n",
            "Iteration #50: W_new = [18.69110735  8.59454545], MSE = 377.58\n",
            "Iteration #60: W_new = [20.99981865  8.17589626], MSE = 321.72\n",
            "Iteration #70: W_new = [23.10641138  7.79389815], MSE = 275.22\n",
            "Iteration #80: W_new = [25.02858024  7.44534246], MSE = 236.5\n",
            "Iteration #90: W_new = [26.78247081  7.12730145], MSE = 204.27\n"
          ]
        }
      ]
    },
    {
      "cell_type": "code",
      "source": [
        ""
      ],
      "metadata": {
        "id": "4d2mqag9v6jT"
      },
      "execution_count": 17,
      "outputs": []
    },
    {
      "cell_type": "markdown",
      "source": [
        "###3*. Вместо того, чтобы задавать количество итераций, задайте другое условие останова алгоритма - когда веса перестают изменяться меньше определенного порога  ϵ ."
      ],
      "metadata": {
        "id": "B24gTItnxkf0"
      }
    },
    {
      "cell_type": "code",
      "source": [
        "n = X.shape[0]\n",
        "\n",
        "eta = 1e-2 \n",
        "#n_iter = 100\n",
        "eps = 1e-2  # NEW\n",
        "i = 0 # NEW\n",
        "weight_dist = np.inf  # NEW\n",
        "\n",
        "W = np.array([1, 0.5])\n",
        "print(f'Number of objects = {n} \\\n",
        "       \\nLearning rate = {eta} \\\n",
        "       \\nInitial weights = {W} \\n')\n",
        "\n",
        "#for i in range(n_iter):\n",
        "while weight_dist > eps:  # NEW\n",
        "    y_pred = np.dot(X, W)\n",
        "    err = calc_mse(y, y_pred)\n",
        "    W_old = W.copy()  # NEW\n",
        "    #for k in range(W.shape[0]):\n",
        "        #W[k] -= eta * (1/n * 2 * X[:, k] @ (y_pred - y))\n",
        "    W -= eta * (1/n * 2 * np.dot(X.T, y_pred - y)) # NEW\n",
        "    weight_dist = np.linalg.norm(W - W_old, ord=2)  # NEW\n",
        "    # порядок 2 - наибольшая из разниц по всем весам\n",
        "    if i % 10 == 0:\n",
        "        eta /= 1.1\n",
        "        print(f'Iteration #{i}: W_new = {W}, MSE = {round(err, 2)}')\n",
        "    i += 1  # NEW\n"
      ],
      "metadata": {
        "colab": {
          "base_uri": "https://localhost:8080/"
        },
        "id": "R9MTr9agxtGL",
        "outputId": "ed0d7ade-0ef1-4b96-9aae-d49e80adf3a7"
      },
      "execution_count": 18,
      "outputs": [
        {
          "output_type": "stream",
          "name": "stdout",
          "text": [
            "Number of objects = 10        \n",
            "Learning rate = 0.01        \n",
            "Initial weights = [1.  0.5] \n",
            "\n",
            "Iteration #0: W_new = [2.08 4.27], MSE = 3047.75\n",
            "Iteration #10: W_new = [ 6.67106886 10.61676385], MSE = 749.71\n",
            "Iteration #20: W_new = [ 9.49320908 10.25731657], MSE = 648.91\n",
            "Iteration #30: W_new = [11.85740092  9.83349244], MSE = 570.46\n",
            "Iteration #40: W_new = [13.86876921  9.46898661], MSE = 508.03\n",
            "Iteration #50: W_new = [15.59085668  9.15672679], MSE = 457.73\n",
            "Iteration #60: W_new = [17.07337653  8.88789585], MSE = 416.77\n",
            "Iteration #70: W_new = [18.35601294  8.65530964], MSE = 383.06\n",
            "Iteration #80: W_new = [19.47073522  8.45317196], MSE = 355.08\n",
            "Iteration #90: W_new = [20.44350656  8.27677488], MSE = 331.65\n",
            "Iteration #100: W_new = [21.29557245  8.12226587], MSE = 311.9\n",
            "Iteration #110: W_new = [22.044442    7.98646992], MSE = 295.12\n",
            "Iteration #120: W_new = [22.7046421   7.86675281], MSE = 280.78\n",
            "Iteration #130: W_new = [23.2883015   7.76091518], MSE = 268.46\n",
            "Iteration #140: W_new = [23.80560705  7.66710979], MSE = 257.81\n",
            "Iteration #150: W_new = [24.26516249  7.5837765 ], MSE = 248.58\n",
            "Iteration #160: W_new = [24.67427278  7.50959066], MSE = 240.53\n",
            "Iteration #170: W_new = [25.03917079  7.44342203], MSE = 233.49\n",
            "Iteration #180: W_new = [25.36519943  7.38430176], MSE = 227.31\n",
            "Iteration #190: W_new = [25.65695861  7.33139573], MSE = 221.86\n",
            "Iteration #200: W_new = [25.91842478  7.28398287], MSE = 217.05\n",
            "Iteration #210: W_new = [26.15304857  7.24143747], MSE = 212.8\n",
            "Iteration #220: W_new = [26.36383499  7.2032146 ], MSE = 209.02\n",
            "Iteration #230: W_new = [26.55340974  7.16883814], MSE = 205.65\n",
            "Iteration #240: W_new = [26.72407419  7.13789077], MSE = 202.66\n",
            "Iteration #250: W_new = [26.87785132  7.11000566], MSE = 199.98\n",
            "Iteration #260: W_new = [27.01652415  7.08485948], MSE = 197.59\n",
            "Iteration #270: W_new = [27.14166815  7.06216655], MSE = 195.44\n",
            "Iteration #280: W_new = [27.25467861  7.04167384], MSE = 193.52\n",
            "Iteration #290: W_new = [27.35679393  7.02315681], MSE = 191.79\n"
          ]
        }
      ]
    },
    {
      "cell_type": "code",
      "source": [
        ""
      ],
      "metadata": {
        "id": "bEg5-kMI6Jj1"
      },
      "execution_count": 18,
      "outputs": []
    }
  ],
  "metadata": {
    "colab": {
      "name": "less1_lin_reg_ivlev.ipynb",
      "provenance": []
    },
    "kernelspec": {
      "display_name": "Python 3",
      "name": "python3"
    },
    "language_info": {
      "name": "python"
    }
  },
  "nbformat": 4,
  "nbformat_minor": 0
}